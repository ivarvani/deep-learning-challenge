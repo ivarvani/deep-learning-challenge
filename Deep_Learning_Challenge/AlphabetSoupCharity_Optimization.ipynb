{
 "cells": [
  {
   "cell_type": "code",
   "execution_count": 1,
   "id": "0ab9d92c",
   "metadata": {},
   "outputs": [
    {
     "data": {
      "text/html": [
       "<div>\n",
       "<style scoped>\n",
       "    .dataframe tbody tr th:only-of-type {\n",
       "        vertical-align: middle;\n",
       "    }\n",
       "\n",
       "    .dataframe tbody tr th {\n",
       "        vertical-align: top;\n",
       "    }\n",
       "\n",
       "    .dataframe thead th {\n",
       "        text-align: right;\n",
       "    }\n",
       "</style>\n",
       "<table border=\"1\" class=\"dataframe\">\n",
       "  <thead>\n",
       "    <tr style=\"text-align: right;\">\n",
       "      <th></th>\n",
       "      <th>EIN</th>\n",
       "      <th>NAME</th>\n",
       "      <th>APPLICATION_TYPE</th>\n",
       "      <th>AFFILIATION</th>\n",
       "      <th>CLASSIFICATION</th>\n",
       "      <th>USE_CASE</th>\n",
       "      <th>ORGANIZATION</th>\n",
       "      <th>STATUS</th>\n",
       "      <th>INCOME_AMT</th>\n",
       "      <th>SPECIAL_CONSIDERATIONS</th>\n",
       "      <th>ASK_AMT</th>\n",
       "      <th>IS_SUCCESSFUL</th>\n",
       "    </tr>\n",
       "  </thead>\n",
       "  <tbody>\n",
       "    <tr>\n",
       "      <th>0</th>\n",
       "      <td>10520599</td>\n",
       "      <td>BLUE KNIGHTS MOTORCYCLE CLUB</td>\n",
       "      <td>T10</td>\n",
       "      <td>Independent</td>\n",
       "      <td>C1000</td>\n",
       "      <td>ProductDev</td>\n",
       "      <td>Association</td>\n",
       "      <td>1</td>\n",
       "      <td>0</td>\n",
       "      <td>N</td>\n",
       "      <td>5000</td>\n",
       "      <td>1</td>\n",
       "    </tr>\n",
       "    <tr>\n",
       "      <th>1</th>\n",
       "      <td>10531628</td>\n",
       "      <td>AMERICAN CHESAPEAKE CLUB CHARITABLE TR</td>\n",
       "      <td>T3</td>\n",
       "      <td>Independent</td>\n",
       "      <td>C2000</td>\n",
       "      <td>Preservation</td>\n",
       "      <td>Co-operative</td>\n",
       "      <td>1</td>\n",
       "      <td>1-9999</td>\n",
       "      <td>N</td>\n",
       "      <td>108590</td>\n",
       "      <td>1</td>\n",
       "    </tr>\n",
       "    <tr>\n",
       "      <th>2</th>\n",
       "      <td>10547893</td>\n",
       "      <td>ST CLOUD PROFESSIONAL FIREFIGHTERS</td>\n",
       "      <td>T5</td>\n",
       "      <td>CompanySponsored</td>\n",
       "      <td>C3000</td>\n",
       "      <td>ProductDev</td>\n",
       "      <td>Association</td>\n",
       "      <td>1</td>\n",
       "      <td>0</td>\n",
       "      <td>N</td>\n",
       "      <td>5000</td>\n",
       "      <td>0</td>\n",
       "    </tr>\n",
       "    <tr>\n",
       "      <th>3</th>\n",
       "      <td>10553066</td>\n",
       "      <td>SOUTHSIDE ATHLETIC ASSOCIATION</td>\n",
       "      <td>T3</td>\n",
       "      <td>CompanySponsored</td>\n",
       "      <td>C2000</td>\n",
       "      <td>Preservation</td>\n",
       "      <td>Trust</td>\n",
       "      <td>1</td>\n",
       "      <td>10000-24999</td>\n",
       "      <td>N</td>\n",
       "      <td>6692</td>\n",
       "      <td>1</td>\n",
       "    </tr>\n",
       "    <tr>\n",
       "      <th>4</th>\n",
       "      <td>10556103</td>\n",
       "      <td>GENETIC RESEARCH INSTITUTE OF THE DESERT</td>\n",
       "      <td>T3</td>\n",
       "      <td>Independent</td>\n",
       "      <td>C1000</td>\n",
       "      <td>Heathcare</td>\n",
       "      <td>Trust</td>\n",
       "      <td>1</td>\n",
       "      <td>100000-499999</td>\n",
       "      <td>N</td>\n",
       "      <td>142590</td>\n",
       "      <td>1</td>\n",
       "    </tr>\n",
       "  </tbody>\n",
       "</table>\n",
       "</div>"
      ],
      "text/plain": [
       "        EIN                                      NAME APPLICATION_TYPE  \\\n",
       "0  10520599              BLUE KNIGHTS MOTORCYCLE CLUB              T10   \n",
       "1  10531628    AMERICAN CHESAPEAKE CLUB CHARITABLE TR               T3   \n",
       "2  10547893        ST CLOUD PROFESSIONAL FIREFIGHTERS               T5   \n",
       "3  10553066            SOUTHSIDE ATHLETIC ASSOCIATION               T3   \n",
       "4  10556103  GENETIC RESEARCH INSTITUTE OF THE DESERT               T3   \n",
       "\n",
       "        AFFILIATION CLASSIFICATION      USE_CASE  ORGANIZATION  STATUS  \\\n",
       "0       Independent          C1000    ProductDev   Association       1   \n",
       "1       Independent          C2000  Preservation  Co-operative       1   \n",
       "2  CompanySponsored          C3000    ProductDev   Association       1   \n",
       "3  CompanySponsored          C2000  Preservation         Trust       1   \n",
       "4       Independent          C1000     Heathcare         Trust       1   \n",
       "\n",
       "      INCOME_AMT SPECIAL_CONSIDERATIONS  ASK_AMT  IS_SUCCESSFUL  \n",
       "0              0                      N     5000              1  \n",
       "1         1-9999                      N   108590              1  \n",
       "2              0                      N     5000              0  \n",
       "3    10000-24999                      N     6692              1  \n",
       "4  100000-499999                      N   142590              1  "
      ]
     },
     "execution_count": 1,
     "metadata": {},
     "output_type": "execute_result"
    }
   ],
   "source": [
    "# Import our dependencies\n",
    "from sklearn.model_selection import train_test_split\n",
    "from sklearn.preprocessing import StandardScaler\n",
    "import pandas as pd\n",
    "import tensorflow as tf\n",
    "\n",
    "\n",
    "#  Import and read the charity_data.csv.\n",
    "import pandas as pd \n",
    "application_df = pd.read_csv(\"https://static.bc-edx.com/data/dla-1-2/m21/lms/starter/charity_data.csv\")\n",
    "application_df.head()"
   ]
  },
  {
   "cell_type": "code",
   "execution_count": 2,
   "id": "67910686",
   "metadata": {},
   "outputs": [],
   "source": [
    "# droping one additional column\n",
    "# Drop the non-beneficial ID columns, 'EIN' and 'NAME' and 'STATUS'\n",
    "application_df= application_df.drop(columns=['EIN','NAME',\"STATUS\"])"
   ]
  },
  {
   "cell_type": "code",
   "execution_count": 3,
   "id": "075c6bb1",
   "metadata": {},
   "outputs": [
    {
     "data": {
      "text/plain": [
       "APPLICATION_TYPE            17\n",
       "AFFILIATION                  6\n",
       "CLASSIFICATION              71\n",
       "USE_CASE                     5\n",
       "ORGANIZATION                 4\n",
       "INCOME_AMT                   9\n",
       "SPECIAL_CONSIDERATIONS       2\n",
       "ASK_AMT                   8747\n",
       "IS_SUCCESSFUL                2\n",
       "dtype: int64"
      ]
     },
     "execution_count": 3,
     "metadata": {},
     "output_type": "execute_result"
    }
   ],
   "source": [
    "# Determine the number of unique values in each column.\n",
    "application_df.nunique()"
   ]
  },
  {
   "cell_type": "code",
   "execution_count": 4,
   "id": "fa98c073",
   "metadata": {},
   "outputs": [
    {
     "data": {
      "text/plain": [
       "T3     27037\n",
       "T4      1542\n",
       "T6      1216\n",
       "T5      1173\n",
       "T19     1065\n",
       "T8       737\n",
       "T7       725\n",
       "T10      528\n",
       "T9       156\n",
       "T13       66\n",
       "T12       27\n",
       "T2        16\n",
       "T25        3\n",
       "T14        3\n",
       "T29        2\n",
       "T15        2\n",
       "T17        1\n",
       "Name: APPLICATION_TYPE, dtype: int64"
      ]
     },
     "execution_count": 4,
     "metadata": {},
     "output_type": "execute_result"
    }
   ],
   "source": [
    "# Look at APPLICATION_TYPE value counts for binning\n",
    "application_df[\"APPLICATION_TYPE\"].value_counts()"
   ]
  },
  {
   "cell_type": "code",
   "execution_count": 5,
   "id": "dc24cd43",
   "metadata": {},
   "outputs": [
    {
     "data": {
      "text/plain": [
       "T3       27037\n",
       "T4        1542\n",
       "T6        1216\n",
       "T5        1173\n",
       "T19       1065\n",
       "T8         737\n",
       "T7         725\n",
       "T10        528\n",
       "Other      276\n",
       "Name: APPLICATION_TYPE, dtype: int64"
      ]
     },
     "execution_count": 5,
     "metadata": {},
     "output_type": "execute_result"
    }
   ],
   "source": [
    "# Choose a cutoff value and create a list of application types to be replaced\n",
    "# use the variable name `application_types_to_replace`\n",
    "application_types_to_replace = [\"T9\",\"T13\",\"T12\",\"T2\",\"T25\",\"T14\",\"T29\",\"T15\",\"T17\"]\n",
    "\n",
    "# Replace in dataframe\n",
    "for app in application_types_to_replace:\n",
    "    application_df['APPLICATION_TYPE'] = application_df['APPLICATION_TYPE'].replace(app,\"Other\")\n",
    "\n",
    "# Check to make sure binning was successful\n",
    "application_df['APPLICATION_TYPE'].value_counts()"
   ]
  },
  {
   "cell_type": "code",
   "execution_count": 6,
   "id": "09276a7b",
   "metadata": {},
   "outputs": [
    {
     "data": {
      "text/plain": [
       "C1000    17326\n",
       "C2000     6074\n",
       "C1200     4837\n",
       "C3000     1918\n",
       "C2100     1883\n",
       "         ...  \n",
       "C4120        1\n",
       "C8210        1\n",
       "C2561        1\n",
       "C4500        1\n",
       "C2150        1\n",
       "Name: CLASSIFICATION, Length: 71, dtype: int64"
      ]
     },
     "execution_count": 6,
     "metadata": {},
     "output_type": "execute_result"
    }
   ],
   "source": [
    "# Look at CLASSIFICATION value counts for binning\n",
    "classification_binning = application_df[\"CLASSIFICATION\"].value_counts()\n",
    "classification_binning"
   ]
  },
  {
   "cell_type": "code",
   "execution_count": 7,
   "id": "d865130b",
   "metadata": {},
   "outputs": [
    {
     "data": {
      "text/plain": [
       "C1000    17326\n",
       "C2000     6074\n",
       "C1200     4837\n",
       "C3000     1918\n",
       "C2100     1883\n",
       "C7000      777\n",
       "C1700      287\n",
       "C4000      194\n",
       "C5000      116\n",
       "C1270      114\n",
       "C2700      104\n",
       "C2800       95\n",
       "C7100       75\n",
       "C1300       58\n",
       "C1280       50\n",
       "C1230       36\n",
       "C1400       34\n",
       "C7200       32\n",
       "C2300       32\n",
       "C1240       30\n",
       "C8000       20\n",
       "C7120       18\n",
       "C1500       16\n",
       "C1800       15\n",
       "C6000       15\n",
       "C1250       14\n",
       "C8200       11\n",
       "C1238       10\n",
       "C1278       10\n",
       "C1235        9\n",
       "C1237        9\n",
       "C7210        7\n",
       "C2400        6\n",
       "C1720        6\n",
       "C4100        6\n",
       "C1257        5\n",
       "C1600        5\n",
       "C1260        3\n",
       "C2710        3\n",
       "C0           3\n",
       "C3200        2\n",
       "C1234        2\n",
       "C1246        2\n",
       "C1267        2\n",
       "C1256        2\n",
       "Name: CLASSIFICATION, dtype: int64"
      ]
     },
     "execution_count": 7,
     "metadata": {},
     "output_type": "execute_result"
    }
   ],
   "source": [
    "# You may find it helpful to look at CLASSIFICATION value counts >1\n",
    "# application_df[\"CLASSIFICATION\"].value_counts()[application_df[\"CLASSIFICATION\"].value_counts()>1]\n",
    "classification_binning[classification_binning>1]"
   ]
  },
  {
   "cell_type": "code",
   "execution_count": 8,
   "id": "fb63b1c5",
   "metadata": {},
   "outputs": [
    {
     "data": {
      "text/plain": [
       "C1000    17326\n",
       "C2000     6074\n",
       "C1200     4837\n",
       "Other     2261\n",
       "C3000     1918\n",
       "C2100     1883\n",
       "Name: CLASSIFICATION, dtype: int64"
      ]
     },
     "execution_count": 8,
     "metadata": {},
     "output_type": "execute_result"
    }
   ],
   "source": [
    "# Choose a cutoff value and create a list of classifications to be replaced\n",
    "# use the variable name `classifications_to_replace`\n",
    "classifications_to_replace = list(classification_binning[classification_binning<800].index)\n",
    "\n",
    "# Replace in dataframe\n",
    "for cls in classifications_to_replace:\n",
    "    application_df['CLASSIFICATION'] = application_df['CLASSIFICATION'].replace(cls,\"Other\")\n",
    "    \n",
    "# Check to make sure binning was successful\n",
    "application_df['CLASSIFICATION'].value_counts()"
   ]
  },
  {
   "cell_type": "code",
   "execution_count": 9,
   "id": "53e2e341",
   "metadata": {},
   "outputs": [
    {
     "name": "stdout",
     "output_type": "stream",
     "text": [
      "<class 'pandas.core.frame.DataFrame'>\n",
      "RangeIndex: 34299 entries, 0 to 34298\n",
      "Data columns (total 43 columns):\n",
      " #   Column                        Non-Null Count  Dtype\n",
      "---  ------                        --------------  -----\n",
      " 0   ASK_AMT                       34299 non-null  int64\n",
      " 1   IS_SUCCESSFUL                 34299 non-null  int64\n",
      " 2   APPLICATION_TYPE_Other        34299 non-null  uint8\n",
      " 3   APPLICATION_TYPE_T10          34299 non-null  uint8\n",
      " 4   APPLICATION_TYPE_T19          34299 non-null  uint8\n",
      " 5   APPLICATION_TYPE_T3           34299 non-null  uint8\n",
      " 6   APPLICATION_TYPE_T4           34299 non-null  uint8\n",
      " 7   APPLICATION_TYPE_T5           34299 non-null  uint8\n",
      " 8   APPLICATION_TYPE_T6           34299 non-null  uint8\n",
      " 9   APPLICATION_TYPE_T7           34299 non-null  uint8\n",
      " 10  APPLICATION_TYPE_T8           34299 non-null  uint8\n",
      " 11  AFFILIATION_CompanySponsored  34299 non-null  uint8\n",
      " 12  AFFILIATION_Family/Parent     34299 non-null  uint8\n",
      " 13  AFFILIATION_Independent       34299 non-null  uint8\n",
      " 14  AFFILIATION_National          34299 non-null  uint8\n",
      " 15  AFFILIATION_Other             34299 non-null  uint8\n",
      " 16  AFFILIATION_Regional          34299 non-null  uint8\n",
      " 17  CLASSIFICATION_C1000          34299 non-null  uint8\n",
      " 18  CLASSIFICATION_C1200          34299 non-null  uint8\n",
      " 19  CLASSIFICATION_C2000          34299 non-null  uint8\n",
      " 20  CLASSIFICATION_C2100          34299 non-null  uint8\n",
      " 21  CLASSIFICATION_C3000          34299 non-null  uint8\n",
      " 22  CLASSIFICATION_Other          34299 non-null  uint8\n",
      " 23  USE_CASE_CommunityServ        34299 non-null  uint8\n",
      " 24  USE_CASE_Heathcare            34299 non-null  uint8\n",
      " 25  USE_CASE_Other                34299 non-null  uint8\n",
      " 26  USE_CASE_Preservation         34299 non-null  uint8\n",
      " 27  USE_CASE_ProductDev           34299 non-null  uint8\n",
      " 28  ORGANIZATION_Association      34299 non-null  uint8\n",
      " 29  ORGANIZATION_Co-operative     34299 non-null  uint8\n",
      " 30  ORGANIZATION_Corporation      34299 non-null  uint8\n",
      " 31  ORGANIZATION_Trust            34299 non-null  uint8\n",
      " 32  INCOME_AMT_0                  34299 non-null  uint8\n",
      " 33  INCOME_AMT_1-9999             34299 non-null  uint8\n",
      " 34  INCOME_AMT_10000-24999        34299 non-null  uint8\n",
      " 35  INCOME_AMT_100000-499999      34299 non-null  uint8\n",
      " 36  INCOME_AMT_10M-50M            34299 non-null  uint8\n",
      " 37  INCOME_AMT_1M-5M              34299 non-null  uint8\n",
      " 38  INCOME_AMT_25000-99999        34299 non-null  uint8\n",
      " 39  INCOME_AMT_50M+               34299 non-null  uint8\n",
      " 40  INCOME_AMT_5M-10M             34299 non-null  uint8\n",
      " 41  SPECIAL_CONSIDERATIONS_N      34299 non-null  uint8\n",
      " 42  SPECIAL_CONSIDERATIONS_Y      34299 non-null  uint8\n",
      "dtypes: int64(2), uint8(41)\n",
      "memory usage: 1.9 MB\n"
     ]
    }
   ],
   "source": [
    "# Convert categorical data to numeric with `pd.get_dummies`\n",
    "application_df = pd.get_dummies(application_df)\n",
    "application_df.info()"
   ]
  },
  {
   "cell_type": "code",
   "execution_count": 10,
   "id": "7e5a15b7",
   "metadata": {},
   "outputs": [],
   "source": [
    "# Split our preprocessed data into our features and target arrays\n",
    "X = application_df.drop(columns = \"IS_SUCCESSFUL\")\n",
    "y = application_df[\"IS_SUCCESSFUL\"]\n",
    "# Split the preprocessed data into a training and testing dataset\n",
    "X_train,X_test,y_train,y_test = train_test_split(X,y,random_state = 1)"
   ]
  },
  {
   "cell_type": "code",
   "execution_count": 11,
   "id": "a10c6382",
   "metadata": {},
   "outputs": [],
   "source": [
    "# Create a StandardScaler instances\n",
    "scaler = StandardScaler()\n",
    "\n",
    "# Fit the StandardScaler\n",
    "X_scaler = scaler.fit(X_train)\n",
    "\n",
    "# Scale the data\n",
    "X_train_scaled = X_scaler.transform(X_train)\n",
    "X_test_scaled = X_scaler.transform(X_test)"
   ]
  },
  {
   "cell_type": "code",
   "execution_count": 12,
   "id": "342b2d0b",
   "metadata": {},
   "outputs": [
    {
     "name": "stdout",
     "output_type": "stream",
     "text": [
      "Model: \"sequential\"\n",
      "_________________________________________________________________\n",
      " Layer (type)                Output Shape              Param #   \n",
      "=================================================================\n",
      " dense (Dense)               (None, 16)                688       \n",
      "                                                                 \n",
      " dense_1 (Dense)             (None, 5)                 85        \n",
      "                                                                 \n",
      " dense_2 (Dense)             (None, 1)                 6         \n",
      "                                                                 \n",
      "=================================================================\n",
      "Total params: 779 (3.04 KB)\n",
      "Trainable params: 779 (3.04 KB)\n",
      "Non-trainable params: 0 (0.00 Byte)\n",
      "_________________________________________________________________\n"
     ]
    }
   ],
   "source": [
    "# Define the model - deep neural net, i.e., the number of input features and hidden nodes for each layer.\n",
    "# input_dim will change to 42 as we have dropped one additional column\n",
    "\n",
    "nn = tf.keras.models.Sequential()\n",
    "\n",
    "# First hidden layer\n",
    "nn.add(tf.keras.layers.Dense(units=16,input_dim = 42,activation = \"softmax\"))\n",
    "\n",
    "# Second hidden layer\n",
    "nn.add(tf.keras.layers.Dense(units =5,activation = \"relu\"))\n",
    "\n",
    "\n",
    "# Output layer\n",
    "nn.add(tf.keras.layers.Dense(units = 1 , activation = \"sigmoid\"))\n",
    "\n",
    "# Check the structure of the model\n",
    "nn.summary()"
   ]
  },
  {
   "cell_type": "code",
   "execution_count": 13,
   "id": "bfc805c6",
   "metadata": {},
   "outputs": [],
   "source": [
    "# Compile the model\n",
    "nn.compile(loss=\"binary_crossentropy\", optimizer=\"adam\", metrics=[\"accuracy\"])"
   ]
  },
  {
   "cell_type": "code",
   "execution_count": 14,
   "id": "bb55dadc",
   "metadata": {},
   "outputs": [
    {
     "name": "stdout",
     "output_type": "stream",
     "text": [
      "Epoch 1/5\n",
      "804/804 [==============================] - 3s 2ms/step - loss: 0.6212 - accuracy: 0.6800\n",
      "Epoch 2/5\n",
      "804/804 [==============================] - 2s 2ms/step - loss: 0.5610 - accuracy: 0.7291\n",
      "Epoch 3/5\n",
      "804/804 [==============================] - 2s 2ms/step - loss: 0.5560 - accuracy: 0.7318\n",
      "Epoch 4/5\n",
      "804/804 [==============================] - 2s 2ms/step - loss: 0.5537 - accuracy: 0.7311\n",
      "Epoch 5/5\n",
      "804/804 [==============================] - 2s 2ms/step - loss: 0.5522 - accuracy: 0.7324\n"
     ]
    }
   ],
   "source": [
    "# Train the model\n",
    "fit_model = nn.fit(X_train_scaled, y_train, epochs=5)"
   ]
  },
  {
   "cell_type": "code",
   "execution_count": 15,
   "id": "8269e5e3",
   "metadata": {},
   "outputs": [
    {
     "name": "stdout",
     "output_type": "stream",
     "text": [
      "268/268 - 1s - loss: 0.5557 - accuracy: 0.7276 - 678ms/epoch - 3ms/step\n",
      "Loss: 0.5557492971420288, Accuracy: 0.727580189704895\n"
     ]
    }
   ],
   "source": [
    "# Evaluate the model using the test data\n",
    "model_loss, model_accuracy = nn.evaluate(X_test_scaled,y_test,verbose=2)\n",
    "print(f\"Loss: {model_loss}, Accuracy: {model_accuracy}\")"
   ]
  },
  {
   "cell_type": "code",
   "execution_count": 16,
   "id": "8db7556d",
   "metadata": {},
   "outputs": [
    {
     "data": {
      "text/plain": [
       "ASK_AMT                         0\n",
       "IS_SUCCESSFUL                   0\n",
       "APPLICATION_TYPE_Other          0\n",
       "APPLICATION_TYPE_T10            0\n",
       "APPLICATION_TYPE_T19            0\n",
       "APPLICATION_TYPE_T3             0\n",
       "APPLICATION_TYPE_T4             0\n",
       "APPLICATION_TYPE_T5             0\n",
       "APPLICATION_TYPE_T6             0\n",
       "APPLICATION_TYPE_T7             0\n",
       "APPLICATION_TYPE_T8             0\n",
       "AFFILIATION_CompanySponsored    0\n",
       "AFFILIATION_Family/Parent       0\n",
       "AFFILIATION_Independent         0\n",
       "AFFILIATION_National            0\n",
       "AFFILIATION_Other               0\n",
       "AFFILIATION_Regional            0\n",
       "CLASSIFICATION_C1000            0\n",
       "CLASSIFICATION_C1200            0\n",
       "CLASSIFICATION_C2000            0\n",
       "CLASSIFICATION_C2100            0\n",
       "CLASSIFICATION_C3000            0\n",
       "CLASSIFICATION_Other            0\n",
       "USE_CASE_CommunityServ          0\n",
       "USE_CASE_Heathcare              0\n",
       "USE_CASE_Other                  0\n",
       "USE_CASE_Preservation           0\n",
       "USE_CASE_ProductDev             0\n",
       "ORGANIZATION_Association        0\n",
       "ORGANIZATION_Co-operative       0\n",
       "ORGANIZATION_Corporation        0\n",
       "ORGANIZATION_Trust              0\n",
       "INCOME_AMT_0                    0\n",
       "INCOME_AMT_1-9999               0\n",
       "INCOME_AMT_10000-24999          0\n",
       "INCOME_AMT_100000-499999        0\n",
       "INCOME_AMT_10M-50M              0\n",
       "INCOME_AMT_1M-5M                0\n",
       "INCOME_AMT_25000-99999          0\n",
       "INCOME_AMT_50M+                 0\n",
       "INCOME_AMT_5M-10M               0\n",
       "SPECIAL_CONSIDERATIONS_N        0\n",
       "SPECIAL_CONSIDERATIONS_Y        0\n",
       "dtype: int64"
      ]
     },
     "execution_count": 16,
     "metadata": {},
     "output_type": "execute_result"
    }
   ],
   "source": [
    "application_df.isnull().sum()"
   ]
  },
  {
   "cell_type": "code",
   "execution_count": 17,
   "id": "bc84d4fe",
   "metadata": {},
   "outputs": [
    {
     "name": "stdout",
     "output_type": "stream",
     "text": [
      "Model: \"sequential_1\"\n",
      "_________________________________________________________________\n",
      " Layer (type)                Output Shape              Param #   \n",
      "=================================================================\n",
      " dense_3 (Dense)             (None, 16)                688       \n",
      "                                                                 \n",
      " dense_4 (Dense)             (None, 12)                204       \n",
      "                                                                 \n",
      " dense_5 (Dense)             (None, 14)                182       \n",
      "                                                                 \n",
      " dense_6 (Dense)             (None, 5)                 75        \n",
      "                                                                 \n",
      " dense_7 (Dense)             (None, 1)                 6         \n",
      "                                                                 \n",
      "=================================================================\n",
      "Total params: 1155 (4.51 KB)\n",
      "Trainable params: 1155 (4.51 KB)\n",
      "Non-trainable params: 0 (0.00 Byte)\n",
      "_________________________________________________________________\n"
     ]
    }
   ],
   "source": [
    "# Define the  a  second model with increased numbers of hidden layers- deep neural net, i.e., the number of input features and hidden nodes for each layer.\n",
    "# input_dim will change to 42 as we have dropped one additional column\n",
    "\n",
    "nn_2  = tf.keras.models.Sequential()\n",
    "\n",
    "# First hidden layer\n",
    "nn_2.add(tf.keras.layers.Dense(units=16,input_dim = 42,activation = \"sigmoid\"))\n",
    "\n",
    "# Second hidden layer\n",
    "nn_2.add(tf.keras.layers.Dense(units =12,activation = \"sigmoid\"))\n",
    "\n",
    "#third hidden layer\n",
    "nn_2.add(tf.keras.layers.Dense(units =14,activation = \"sigmoid\"))\n",
    "\n",
    "# fourth hidden layer \n",
    "nn_2.add(tf.keras.layers.Dense(units = 5,activation = \"sigmoid\"))\n",
    "# Output layer\n",
    "nn_2.add(tf.keras.layers.Dense(units = 1 , activation = \"sigmoid\"))\n",
    "\n",
    "# Check the structure of the model\n",
    "nn_2.summary()"
   ]
  },
  {
   "cell_type": "code",
   "execution_count": 18,
   "id": "15f10e7b",
   "metadata": {},
   "outputs": [],
   "source": [
    "# Compile the model\n",
    "nn_2.compile(loss=\"binary_crossentropy\", optimizer=\"adam\", metrics=[\"accuracy\"])"
   ]
  },
  {
   "cell_type": "code",
   "execution_count": 19,
   "id": "7ccb060b",
   "metadata": {},
   "outputs": [
    {
     "name": "stdout",
     "output_type": "stream",
     "text": [
      "Epoch 1/5\n",
      "804/804 [==============================] - 3s 3ms/step - loss: 0.6492 - accuracy: 0.6286\n",
      "Epoch 2/5\n",
      "804/804 [==============================] - 2s 3ms/step - loss: 0.5770 - accuracy: 0.7292\n",
      "Epoch 3/5\n",
      "804/804 [==============================] - 2s 3ms/step - loss: 0.5746 - accuracy: 0.7289\n",
      "Epoch 4/5\n",
      "804/804 [==============================] - 2s 3ms/step - loss: 0.5734 - accuracy: 0.7303\n",
      "Epoch 5/5\n",
      "804/804 [==============================] - 2s 3ms/step - loss: 0.5721 - accuracy: 0.7311\n"
     ]
    }
   ],
   "source": [
    "# Train the model\n",
    "fit_model_2 = nn_2.fit(X_train_scaled, y_train, epochs=5)"
   ]
  },
  {
   "cell_type": "code",
   "execution_count": 20,
   "id": "5b14be0f",
   "metadata": {},
   "outputs": [
    {
     "name": "stdout",
     "output_type": "stream",
     "text": [
      "268/268 - 1s - loss: 0.5737 - accuracy: 0.7308 - 579ms/epoch - 2ms/step\n",
      "Loss: 0.5736634731292725, Accuracy: 0.7308454513549805\n"
     ]
    }
   ],
   "source": [
    "# Evaluate the model using the test data\n",
    "model_loss, model_accuracy = nn_2.evaluate(X_test_scaled,y_test,verbose=2)\n",
    "print(f\"Loss: {model_loss}, Accuracy: {model_accuracy}\")"
   ]
  },
  {
   "cell_type": "code",
   "execution_count": 21,
   "id": "e9f4affe",
   "metadata": {},
   "outputs": [
    {
     "name": "stdout",
     "output_type": "stream",
     "text": [
      "Epoch 1/20\n",
      "804/804 [==============================] - 2s 3ms/step - loss: 0.5709 - accuracy: 0.7296\n",
      "Epoch 2/20\n",
      "804/804 [==============================] - 2s 3ms/step - loss: 0.5685 - accuracy: 0.7297\n",
      "Epoch 3/20\n",
      "804/804 [==============================] - 2s 3ms/step - loss: 0.5652 - accuracy: 0.7307\n",
      "Epoch 4/20\n",
      "804/804 [==============================] - 3s 4ms/step - loss: 0.5622 - accuracy: 0.7306\n",
      "Epoch 5/20\n",
      "804/804 [==============================] - 2s 3ms/step - loss: 0.5599 - accuracy: 0.7301\n",
      "Epoch 6/20\n",
      "804/804 [==============================] - 2s 3ms/step - loss: 0.5585 - accuracy: 0.7308\n",
      "Epoch 7/20\n",
      "804/804 [==============================] - 2s 2ms/step - loss: 0.5573 - accuracy: 0.7310\n",
      "Epoch 8/20\n",
      "804/804 [==============================] - 2s 2ms/step - loss: 0.5569 - accuracy: 0.7308\n",
      "Epoch 9/20\n",
      "804/804 [==============================] - 2s 3ms/step - loss: 0.5560 - accuracy: 0.7307\n",
      "Epoch 10/20\n",
      "804/804 [==============================] - 2s 3ms/step - loss: 0.5550 - accuracy: 0.7320\n",
      "Epoch 11/20\n",
      "804/804 [==============================] - 2s 3ms/step - loss: 0.5544 - accuracy: 0.7325\n",
      "Epoch 12/20\n",
      "804/804 [==============================] - 2s 2ms/step - loss: 0.5536 - accuracy: 0.7322\n",
      "Epoch 13/20\n",
      "804/804 [==============================] - 2s 3ms/step - loss: 0.5533 - accuracy: 0.7322\n",
      "Epoch 14/20\n",
      "804/804 [==============================] - 2s 3ms/step - loss: 0.5527 - accuracy: 0.7327\n",
      "Epoch 15/20\n",
      "804/804 [==============================] - 2s 2ms/step - loss: 0.5522 - accuracy: 0.7329\n",
      "Epoch 16/20\n",
      "804/804 [==============================] - 2s 2ms/step - loss: 0.5515 - accuracy: 0.7324\n",
      "Epoch 17/20\n",
      "804/804 [==============================] - 2s 3ms/step - loss: 0.5512 - accuracy: 0.7331\n",
      "Epoch 18/20\n",
      "804/804 [==============================] - 2s 2ms/step - loss: 0.5509 - accuracy: 0.7328\n",
      "Epoch 19/20\n",
      "804/804 [==============================] - 2s 2ms/step - loss: 0.5505 - accuracy: 0.7326\n",
      "Epoch 20/20\n",
      "804/804 [==============================] - 2s 3ms/step - loss: 0.5502 - accuracy: 0.7327\n"
     ]
    }
   ],
   "source": [
    "# increase the number of epochs to 20\n",
    "fit_model_2 = nn_2.fit(X_train_scaled, y_train, epochs=20)"
   ]
  },
  {
   "cell_type": "code",
   "execution_count": 22,
   "id": "c6a7cf99",
   "metadata": {},
   "outputs": [
    {
     "name": "stdout",
     "output_type": "stream",
     "text": [
      "268/268 - 0s - loss: 0.5542 - accuracy: 0.7296 - 457ms/epoch - 2ms/step\n",
      "Loss: 0.5542472004890442, Accuracy: 0.7295626997947693\n"
     ]
    }
   ],
   "source": [
    "# Evaluate the model using the test data\n",
    "model_loss, model_accuracy = nn_2.evaluate(X_test_scaled,y_test,verbose=2)\n",
    "print(f\"Loss: {model_loss}, Accuracy: {model_accuracy}\")"
   ]
  },
  {
   "cell_type": "code",
   "execution_count": 23,
   "id": "e8f14cfd",
   "metadata": {},
   "outputs": [
    {
     "name": "stderr",
     "output_type": "stream",
     "text": [
      "C:\\Users\\user\\anaconda3\\lib\\site-packages\\keras\\src\\engine\\training.py:3079: UserWarning: You are saving your model as an HDF5 file via `model.save()`. This file format is considered legacy. We recommend using instead the native Keras format, e.g. `model.save('my_model.keras')`.\n",
      "  saving_api.save_model(\n"
     ]
    }
   ],
   "source": [
    "nn_2.save('AlphabetSoupCharity_Optimization.h5')"
   ]
  },
  {
   "cell_type": "code",
   "execution_count": null,
   "id": "12fdb7c6",
   "metadata": {},
   "outputs": [],
   "source": []
  }
 ],
 "metadata": {
  "kernelspec": {
   "display_name": "Python 3 (ipykernel)",
   "language": "python",
   "name": "python3"
  },
  "language_info": {
   "codemirror_mode": {
    "name": "ipython",
    "version": 3
   },
   "file_extension": ".py",
   "mimetype": "text/x-python",
   "name": "python",
   "nbconvert_exporter": "python",
   "pygments_lexer": "ipython3",
   "version": "3.10.9"
  }
 },
 "nbformat": 4,
 "nbformat_minor": 5
}
